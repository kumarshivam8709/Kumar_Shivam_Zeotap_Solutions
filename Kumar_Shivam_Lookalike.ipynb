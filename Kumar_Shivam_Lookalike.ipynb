{
  "nbformat": 4,
  "nbformat_minor": 0,
  "metadata": {
    "colab": {
      "provenance": []
    },
    "kernelspec": {
      "name": "python3",
      "display_name": "Python 3"
    },
    "language_info": {
      "name": "python"
    }
  },
  "cells": [
    {
      "cell_type": "code",
      "execution_count": 1,
      "metadata": {
        "id": "xR_ssauHzVO0"
      },
      "outputs": [],
      "source": [
        "import pandas as pd\n",
        "from sklearn.metrics.pairwise import cosine_similarity\n",
        "from sklearn.preprocessing import LabelEncoder, MinMaxScaler"
      ]
    },
    {
      "cell_type": "code",
      "source": [
        "customers = pd.read_csv('Customers.csv')\n",
        "products = pd.read_csv('Products.csv')\n",
        "transactions = pd.read_csv('Transactions.csv')"
      ],
      "metadata": {
        "id": "FBezruoezY2X"
      },
      "execution_count": 2,
      "outputs": []
    },
    {
      "cell_type": "code",
      "source": [
        "merged_data = transactions.merge(customers, on='CustomerID', how='left').merge(products, on='ProductID', how='left')"
      ],
      "metadata": {
        "id": "AcyPmcgOzfq8"
      },
      "execution_count": 3,
      "outputs": []
    },
    {
      "cell_type": "code",
      "source": [
        "label_encoder = LabelEncoder()\n",
        "merged_data['Region_encoded'] = label_encoder.fit_transform(merged_data['Region'])\n",
        "merged_data['Category_encoded'] = label_encoder.fit_transform(merged_data['Category'])"
      ],
      "metadata": {
        "id": "KGIjbL-QziU6"
      },
      "execution_count": 4,
      "outputs": []
    },
    {
      "cell_type": "code",
      "source": [
        "customer_features = merged_data.groupby('CustomerID').agg({\n",
        "    'Region_encoded': 'first',\n",
        "    'Category_encoded': 'mean',\n",
        "    'Price_y': 'mean',\n",
        "    'TotalValue': 'sum',\n",
        "    'Quantity': 'sum'\n",
        "}).reset_index()"
      ],
      "metadata": {
        "id": "p6OQsQYxzlli"
      },
      "execution_count": 6,
      "outputs": []
    },
    {
      "cell_type": "code",
      "source": [
        "scaler = MinMaxScaler()\n",
        "normalized_features = scaler.fit_transform(customer_features.drop(columns=['CustomerID']))\n",
        "cosine_sim = cosine_similarity(normalized_features)"
      ],
      "metadata": {
        "id": "8AB8OznvzoX0"
      },
      "execution_count": 7,
      "outputs": []
    },
    {
      "cell_type": "code",
      "source": [
        "lookalike_recommendations = {}\n",
        "for i in range(20):\n",
        "    customer_id = customer_features.iloc[i]['CustomerID']\n",
        "    similarity_scores = list(enumerate(cosine_sim[i]))\n",
        "    similarity_scores = sorted(similarity_scores, key=lambda x: x[1], reverse=True)[1:4]\n",
        "    recommendations = [(customer_features.iloc[j]['CustomerID'], score) for j, score in similarity_scores]\n",
        "    lookalike_recommendations[customer_id] = recommendations"
      ],
      "metadata": {
        "id": "VW2cZBPdztov"
      },
      "execution_count": 8,
      "outputs": []
    },
    {
      "cell_type": "code",
      "source": [
        "lookalike_df = pd.DataFrame({\n",
        "    'CustomerID': list(lookalike_recommendations.keys()),\n",
        "    'Recommendations': [str(rec) for rec in lookalike_recommendations.values()]\n",
        "})"
      ],
      "metadata": {
        "id": "PtSh-G-BzyHb"
      },
      "execution_count": 9,
      "outputs": []
    },
    {
      "cell_type": "code",
      "source": [
        "lookalike_df.to_csv('Kumar_Shivam_Lookalike.csv', index=False)"
      ],
      "metadata": {
        "id": "xu89QiwZz1hO"
      },
      "execution_count": 10,
      "outputs": []
    },
    {
      "cell_type": "code",
      "source": [],
      "metadata": {
        "id": "ieAr1Hj50EGl"
      },
      "execution_count": null,
      "outputs": []
    }
  ]
}